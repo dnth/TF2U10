{
 "cells": [
  {
   "cell_type": "code",
   "execution_count": 1,
   "metadata": {},
   "outputs": [],
   "source": [
    "import tensorflow as tf\n",
    "from imutils import paths\n",
    "import os\n",
    "from tensorflow.keras.preprocessing.image import load_img\n",
    "from tensorflow.keras.preprocessing.image import img_to_array, array_to_img\n",
    "from tensorflow.keras.applications.mobilenet_v2 import preprocess_input\n",
    "import numpy as np\n",
    "from sklearn.preprocessing import LabelBinarizer\n",
    "from tensorflow.keras.utils import to_categorical\n",
    "from sklearn.model_selection import train_test_split\n",
    "import matplotlib.pyplot as plt\n",
    "from sklearn.metrics import classification_report\n",
    "from tensorflow.keras import layers\n",
    "from tensorflow.keras.applications import MobileNetV2, VGG16, ResNet50V2, Xception"
   ]
  },
  {
   "cell_type": "code",
   "execution_count": 2,
   "metadata": {},
   "outputs": [
    {
     "name": "stdout",
     "output_type": "stream",
     "text": [
      "[INFO] loading images...\n"
     ]
    }
   ],
   "source": [
    "# grab the list of images in our dataset directory, then initialize\n",
    "# the list of data (i.e., images) and class images\n",
    "print(\"[INFO] loading images...\")\n",
    "imagePaths = list(paths.list_images('dataset'))\n",
    "data = []\n",
    "labels = []"
   ]
  },
  {
   "cell_type": "code",
   "execution_count": 3,
   "metadata": {},
   "outputs": [],
   "source": [
    "# loop over the image paths\n",
    "for imagePath in imagePaths:\n",
    "\t# extract the class label from the filename\n",
    "\tlabel = imagePath.split(os.path.sep)[-2]\n",
    "\t# load the input image (224x224) and preprocess it\n",
    "\timage = load_img(imagePath, target_size=(224, 224))\n",
    "\timage = img_to_array(image)\n",
    "\timage = preprocess_input(image)\n",
    "\n",
    "\t# update the data and labels lists, respectively\n",
    "\tdata.append(image)\n",
    "\tlabels.append(label)\n",
    "\n",
    "# convert the data and labels to NumPy arrays\n",
    "data = np.array(data, dtype=\"float32\")\n",
    "labels = np.array(labels)"
   ]
  },
  {
   "cell_type": "code",
   "execution_count": 4,
   "metadata": {},
   "outputs": [],
   "source": [
    "# perform one-hot encoding on the labels\n",
    "lb = LabelBinarizer()\n",
    "labels = lb.fit_transform(labels)\n",
    "labels = to_categorical(labels)\n",
    "\n",
    "# partition the data into training and testing splits using 75% of\n",
    "# the data for training and the remaining 25% for testing\n",
    "(trainX, testX, trainY, testY) = train_test_split(data, labels, test_size=0.20, stratify=labels, random_state=42)"
   ]
  },
  {
   "cell_type": "code",
   "execution_count": 5,
   "metadata": {},
   "outputs": [
    {
     "name": "stdout",
     "output_type": "stream",
     "text": [
      "WARNING:tensorflow:`input_shape` is undefined or non-square, or `rows` is not in [96, 128, 160, 192, 224]. Weights for input shape (224, 224) will be loaded as the default.\n"
     ]
    }
   ],
   "source": [
    "# load the MobileNetV2 network, ensuring the head FC layer sets are\n",
    "# left off\n",
    "baseModel = MobileNetV2(weights=\"imagenet\", include_top=False,\n",
    "\tinput_tensor=layers.Input(shape=(224, 224, 3)))\n",
    "\n",
    "for layer in baseModel.layers:\n",
    "\tlayer.trainable = False"
   ]
  },
  {
   "cell_type": "code",
   "execution_count": 6,
   "metadata": {},
   "outputs": [],
   "source": [
    "model = tf.keras.models.Sequential([\n",
    "    baseModel,\n",
    "    layers.Flatten(),\n",
    "    layers.Dense(16, activation='relu'),\n",
    "    layers.Dropout(0.2),\n",
    "    layers.Dense(2, activation='softmax')\n",
    "])"
   ]
  },
  {
   "cell_type": "code",
   "execution_count": 7,
   "metadata": {},
   "outputs": [
    {
     "name": "stdout",
     "output_type": "stream",
     "text": [
      "Model: \"sequential\"\n",
      "_________________________________________________________________\n",
      "Layer (type)                 Output Shape              Param #   \n",
      "=================================================================\n",
      "mobilenetv2_1.00_224 (Model) (None, 7, 7, 1280)        2257984   \n",
      "_________________________________________________________________\n",
      "flatten (Flatten)            (None, 62720)             0         \n",
      "_________________________________________________________________\n",
      "dense (Dense)                (None, 16)                1003536   \n",
      "_________________________________________________________________\n",
      "dropout (Dropout)            (None, 16)                0         \n",
      "_________________________________________________________________\n",
      "dense_1 (Dense)              (None, 2)                 34        \n",
      "=================================================================\n",
      "Total params: 3,261,554\n",
      "Trainable params: 1,003,570\n",
      "Non-trainable params: 2,257,984\n",
      "_________________________________________________________________\n"
     ]
    }
   ],
   "source": [
    "model.compile(loss=\"binary_crossentropy\", optimizer='adam', metrics=[\"accuracy\"])\n",
    "model.summary()"
   ]
  },
  {
   "cell_type": "code",
   "execution_count": 8,
   "metadata": {},
   "outputs": [
    {
     "name": "stdout",
     "output_type": "stream",
     "text": [
      "Epoch 1/20\n",
      "20/20 [==============================] - 2s 109ms/step - loss: 0.4793 - accuracy: 0.9297 - val_loss: 0.4215 - val_accuracy: 0.9625\n",
      "Epoch 2/20\n",
      "20/20 [==============================] - 1s 61ms/step - loss: 0.2133 - accuracy: 0.9719 - val_loss: 0.1640 - val_accuracy: 0.9688\n",
      "Epoch 3/20\n",
      "20/20 [==============================] - 1s 62ms/step - loss: 0.0868 - accuracy: 0.9828 - val_loss: 0.1495 - val_accuracy: 0.9625\n",
      "Epoch 4/20\n",
      "20/20 [==============================] - 1s 59ms/step - loss: 0.0926 - accuracy: 0.9828 - val_loss: 0.2348 - val_accuracy: 0.9688\n",
      "Epoch 5/20\n",
      "20/20 [==============================] - 1s 59ms/step - loss: 0.0573 - accuracy: 0.9891 - val_loss: 0.0947 - val_accuracy: 0.9750\n",
      "Epoch 6/20\n",
      "20/20 [==============================] - 1s 60ms/step - loss: 0.0509 - accuracy: 0.9891 - val_loss: 0.0921 - val_accuracy: 0.9625\n",
      "Epoch 7/20\n",
      "20/20 [==============================] - 1s 61ms/step - loss: 0.0355 - accuracy: 0.9953 - val_loss: 0.1131 - val_accuracy: 0.9688\n",
      "Epoch 8/20\n",
      "20/20 [==============================] - 1s 62ms/step - loss: 0.0297 - accuracy: 0.9797 - val_loss: 0.0543 - val_accuracy: 0.9812\n",
      "Epoch 9/20\n",
      "20/20 [==============================] - 1s 61ms/step - loss: 0.0061 - accuracy: 0.9937 - val_loss: 0.1061 - val_accuracy: 0.9688\n",
      "Epoch 10/20\n",
      "20/20 [==============================] - 1s 62ms/step - loss: 0.0058 - accuracy: 0.9953 - val_loss: 0.0498 - val_accuracy: 0.9875\n",
      "Epoch 11/20\n",
      "20/20 [==============================] - 1s 61ms/step - loss: 0.0026 - accuracy: 0.9984 - val_loss: 0.0601 - val_accuracy: 0.9875\n",
      "Epoch 12/20\n",
      "20/20 [==============================] - 1s 64ms/step - loss: 0.0031 - accuracy: 0.9969 - val_loss: 0.0724 - val_accuracy: 0.9750\n",
      "Epoch 13/20\n",
      "20/20 [==============================] - 1s 63ms/step - loss: 0.0014 - accuracy: 1.0000 - val_loss: 0.0776 - val_accuracy: 0.9750\n",
      "Epoch 14/20\n",
      "20/20 [==============================] - 1s 63ms/step - loss: 0.0036 - accuracy: 1.0000 - val_loss: 0.0780 - val_accuracy: 0.9812\n",
      "Epoch 15/20\n",
      "20/20 [==============================] - 1s 63ms/step - loss: 0.0028 - accuracy: 1.0000 - val_loss: 0.1556 - val_accuracy: 0.9688\n",
      "Epoch 16/20\n",
      "20/20 [==============================] - 1s 67ms/step - loss: 0.0167 - accuracy: 0.9953 - val_loss: 0.1217 - val_accuracy: 0.9625\n",
      "Epoch 17/20\n",
      "20/20 [==============================] - 1s 63ms/step - loss: 0.0079 - accuracy: 0.9969 - val_loss: 0.0983 - val_accuracy: 0.9812\n",
      "Epoch 18/20\n",
      "20/20 [==============================] - 1s 63ms/step - loss: 0.0012 - accuracy: 1.0000 - val_loss: 0.1301 - val_accuracy: 0.9750\n",
      "Epoch 19/20\n",
      "20/20 [==============================] - 1s 63ms/step - loss: 0.0049 - accuracy: 0.9984 - val_loss: 0.0933 - val_accuracy: 0.9750\n",
      "Epoch 20/20\n",
      "20/20 [==============================] - 1s 66ms/step - loss: 0.0029 - accuracy: 0.9984 - val_loss: 0.0790 - val_accuracy: 0.9875\n"
     ]
    }
   ],
   "source": [
    "H = model.fit(trainX, trainY, batch_size=32, validation_split=0.2, epochs=20)"
   ]
  },
  {
   "cell_type": "code",
   "execution_count": 9,
   "metadata": {},
   "outputs": [
    {
     "data": {
      "image/png": "[encoded data removed]",
      "text/plain": [
       "<Figure size 432x288 with 1 Axes>"
      ]
     },
     "metadata": {},
     "output_type": "display_data"
    }
   ],
   "source": [
    "# plot the training loss and accuracy\n",
    "N = 20\n",
    "plt.style.use(\"ggplot\")\n",
    "plt.figure()\n",
    "plt.plot(np.arange(0, N), H.history[\"loss\"], label=\"train_loss\")\n",
    "plt.plot(np.arange(0, N), H.history[\"val_loss\"], label=\"val_loss\")\n",
    "plt.plot(np.arange(0, N), H.history[\"accuracy\"], label=\"train_acc\")\n",
    "plt.plot(np.arange(0, N), H.history[\"val_accuracy\"], label=\"val_acc\")\n",
    "plt.title(\"Training Loss and Accuracy\")\n",
    "plt.xlabel(\"Epoch #\")\n",
    "plt.ylabel(\"Loss/Accuracy\")\n",
    "plt.legend()\n",
    "plt.savefig(\"learning_curve.png\")"
   ]
  },
  {
   "cell_type": "code",
   "execution_count": 10,
   "metadata": {},
   "outputs": [],
   "source": [
    "model.save(\"catdognet_transfer.h5\")"
   ]
  },
  {
   "cell_type": "code",
   "execution_count": null,
   "metadata": {},
   "outputs": [
    {
     "name": "stdout",
     "output_type": "stream",
     "text": [
      "[INFO] evaluating network...\n",
      "5/7 [====================>.........] - ETA: 0s - loss: 0.0633 - accuracy: 0.9812"
     ]
    }
   ],
   "source": [
    "# make predictions on the testing set\n",
    "print(\"[INFO] evaluating network...\")\n",
    "model.evaluate(testX, testY)"
   ]
  },
  {
   "cell_type": "code",
   "execution_count": null,
   "metadata": {},
   "outputs": [],
   "source": [
    "model(testX[2:3])"
   ]
  },
  {
   "cell_type": "code",
   "execution_count": null,
   "metadata": {},
   "outputs": [],
   "source": [
    "array_to_img(trainX[0])"
   ]
  },
  {
   "cell_type": "code",
   "execution_count": null,
   "metadata": {},
   "outputs": [],
   "source": [
    "trainY[0]"
   ]
  },
  {
   "cell_type": "code",
   "execution_count": null,
   "metadata": {},
   "outputs": [],
   "source": [
    "# test on new image\n",
    "image = load_img('sample_image/5.jpg', target_size=(224, 224))\n",
    "image = img_to_array(image)\n",
    "image = preprocess_input(image)"
   ]
  },
  {
   "cell_type": "code",
   "execution_count": null,
   "metadata": {},
   "outputs": [],
   "source": [
    "array_to_img(image)"
   ]
  },
  {
   "cell_type": "code",
   "execution_count": null,
   "metadata": {},
   "outputs": [],
   "source": [
    "image.shape"
   ]
  },
  {
   "cell_type": "code",
   "execution_count": null,
   "metadata": {},
   "outputs": [],
   "source": [
    "prediction = model(image.reshape(-1,224,224,3))"
   ]
  },
  {
   "cell_type": "code",
   "execution_count": null,
   "metadata": {},
   "outputs": [],
   "source": [
    "np.argmax(prediction, axis=1)"
   ]
  },
  {
   "cell_type": "code",
   "execution_count": null,
   "metadata": {},
   "outputs": [],
   "source": []
  }
 ],
 "metadata": {
  "accelerator": "TPU",
  "colab": {
   "collapsed_sections": [],
   "name": "train_face_mask.ipynb",
   "provenance": []
  },
  "kernelspec": {
   "display_name": "Python 3",
   "language": "python",
   "name": "python3"
  },
  "language_info": {
   "codemirror_mode": {
    "name": "ipython",
    "version": 3
   },
   "file_extension": ".py",
   "mimetype": "text/x-python",
   "name": "python",
   "nbconvert_exporter": "python",
   "pygments_lexer": "ipython3",
   "version": "3.7.7"
  }
 },
 "nbformat": 4,
 "nbformat_minor": 4
}
